{
  "nbformat": 4,
  "nbformat_minor": 0,
  "metadata": {
    "colab": {
      "name": "13 - Two Dimensional Numpy.ipynb",
      "provenance": [],
      "authorship_tag": "ABX9TyMmw2/EaEX5Xg23O1sa4sBC",
      "include_colab_link": true
    },
    "kernelspec": {
      "name": "python3",
      "display_name": "Python 3"
    }
  },
  "cells": [
    {
      "cell_type": "markdown",
      "metadata": {
        "id": "view-in-github",
        "colab_type": "text"
      },
      "source": [
        "<a href=\"https://colab.research.google.com/github/fredprada/Python_for_Data_Science_and_AI_COURSE/blob/main/13_Two_Dimensional_Numpy.ipynb\" target=\"_parent\"><img src=\"https://colab.research.google.com/assets/colab-badge.svg\" alt=\"Open In Colab\"/></a>"
      ]
    },
    {
      "cell_type": "code",
      "metadata": {
        "id": "UMxVD6jCbguU",
        "colab": {
          "base_uri": "https://localhost:8080/"
        },
        "outputId": "b01dffb6-505e-41c4-ac50-acbd208d5e08"
      },
      "source": [
        "#How to transform lists on a matrix\r\n",
        "import numpy as np\r\n",
        "a=[[11,12,13],[21,22,23],[31,32,33]]\r\n",
        "A=np.array(a)\r\n",
        "A"
      ],
      "execution_count": null,
      "outputs": [
        {
          "output_type": "execute_result",
          "data": {
            "text/plain": [
              "array([[11, 12, 13],\n",
              "       [21, 22, 23],\n",
              "       [31, 32, 33]])"
            ]
          },
          "metadata": {
            "tags": []
          },
          "execution_count": 2
        }
      ]
    },
    {
      "cell_type": "code",
      "metadata": {
        "colab": {
          "base_uri": "https://localhost:8080/"
        },
        "id": "5AER3K8Oerla",
        "outputId": "2f8ee953-7dc1-4b88-f097-f608c83c9104"
      },
      "source": [
        "#How to get the \"level\" or the dimension of the matrix \r\n",
        "#(returns the number of axis)\r\n",
        "#(returns the number of nested lists)\r\n",
        "a=[[11,12,13],[21,22,23],[31,32,33]]\r\n",
        "A=np.array(a)\r\n",
        "A.ndim"
      ],
      "execution_count": null,
      "outputs": [
        {
          "output_type": "execute_result",
          "data": {
            "text/plain": [
              "2"
            ]
          },
          "metadata": {
            "tags": []
          },
          "execution_count": 5
        }
      ]
    },
    {
      "cell_type": "code",
      "metadata": {
        "colab": {
          "base_uri": "https://localhost:8080/"
        },
        "id": "BMK8nG8gfTwh",
        "outputId": "9432ab04-9387-4909-e935-c4db26feedae"
      },
      "source": [
        "#returns the shape of the matrix (lines, columns)\r\n",
        "a=[[11,12,13],[21,22,23],[31,32,33]]\r\n",
        "A=np.array(a)\r\n",
        "A.shape"
      ],
      "execution_count": null,
      "outputs": [
        {
          "output_type": "execute_result",
          "data": {
            "text/plain": [
              "(3, 3)"
            ]
          },
          "metadata": {
            "tags": []
          },
          "execution_count": 6
        }
      ]
    },
    {
      "cell_type": "code",
      "metadata": {
        "colab": {
          "base_uri": "https://localhost:8080/"
        },
        "id": "F0JygbzEft9f",
        "outputId": "4cbf2818-3d91-4b55-b256-6860fd87e539"
      },
      "source": [
        "#returns the size of the matrix (lines x columns)\r\n",
        "a=[[11,12,13],[21,22,23],[31,32,33]]\r\n",
        "A=np.array(a)\r\n",
        "A.size"
      ],
      "execution_count": null,
      "outputs": [
        {
          "output_type": "execute_result",
          "data": {
            "text/plain": [
              "9"
            ]
          },
          "metadata": {
            "tags": []
          },
          "execution_count": 7
        }
      ]
    },
    {
      "cell_type": "code",
      "metadata": {
        "colab": {
          "base_uri": "https://localhost:8080/"
        },
        "id": "bY7pKv4mf2N6",
        "outputId": "6216a969-a753-4584-e5ff-a6e7ea5eceeb"
      },
      "source": [
        "#positions of values within the matrix\r\n",
        "a=[[11,12,13],[21,22,23],[31,32,33]]\r\n",
        "A=np.array(a)\r\n",
        "print(A)\r\n",
        "A[1][2]\r\n",
        "A[1,2]\r\n",
        "#here it searches for the number on the SECOND row (described as 1) and the\r\n",
        "#THIRD column (described as 2), therefore, we search for the number 23"
      ],
      "execution_count": null,
      "outputs": [
        {
          "output_type": "stream",
          "text": [
            "[[11 12 13]\n",
            " [21 22 23]\n",
            " [31 32 33]]\n"
          ],
          "name": "stdout"
        },
        {
          "output_type": "execute_result",
          "data": {
            "text/plain": [
              "23"
            ]
          },
          "metadata": {
            "tags": []
          },
          "execution_count": 14
        }
      ]
    },
    {
      "cell_type": "code",
      "metadata": {
        "colab": {
          "base_uri": "https://localhost:8080/"
        },
        "id": "X_1UB2ZNgEGS",
        "outputId": "9c5bb34f-d345-42cb-bf8a-0d1c4ccc8256"
      },
      "source": [
        "#positions of values within the matrix\r\n",
        "a=[[11,12,13],[21,22,23],[31,32,33]]\r\n",
        "A=np.array(a)\r\n",
        "print(A)\r\n",
        "A[1][2]\r\n",
        "A[0:2,2]"
      ],
      "execution_count": null,
      "outputs": [
        {
          "output_type": "stream",
          "text": [
            "[[11 12 13]\n",
            " [21 22 23]\n",
            " [31 32 33]]\n"
          ],
          "name": "stdout"
        },
        {
          "output_type": "execute_result",
          "data": {
            "text/plain": [
              "array([13, 23])"
            ]
          },
          "metadata": {
            "tags": []
          },
          "execution_count": 15
        }
      ]
    },
    {
      "cell_type": "code",
      "metadata": {
        "colab": {
          "base_uri": "https://localhost:8080/"
        },
        "id": "oKKxWU8Oh55J",
        "outputId": "9fbc051e-1d7d-4947-db6e-690db5abecab"
      },
      "source": [
        "#Summing a numpy array sums up all the elements\r\n",
        "a=np.array([[11,12,13],[21,22,23],[31,32,33]])\r\n",
        "b=np.array([[11,12,13],[21,22,23],[31,32,33]])\r\n",
        "a+b"
      ],
      "execution_count": null,
      "outputs": [
        {
          "output_type": "execute_result",
          "data": {
            "text/plain": [
              "array([[22, 24, 26],\n",
              "       [42, 44, 46],\n",
              "       [62, 64, 66]])"
            ]
          },
          "metadata": {
            "tags": []
          },
          "execution_count": 20
        }
      ]
    },
    {
      "cell_type": "code",
      "metadata": {
        "colab": {
          "base_uri": "https://localhost:8080/"
        },
        "id": "QBHOp5RKiByH",
        "outputId": "86ac5ee0-0810-46ef-c259-63dfba9d227a"
      },
      "source": [
        "#multiplication of matrices by a scalar\r\n",
        "a=np.array([[11,12,13],[21,22,23],[31,32,33]])\r\n",
        "a*2\r\n"
      ],
      "execution_count": null,
      "outputs": [
        {
          "output_type": "execute_result",
          "data": {
            "text/plain": [
              "array([[22, 24, 26],\n",
              "       [42, 44, 46],\n",
              "       [62, 64, 66]])"
            ]
          },
          "metadata": {
            "tags": []
          },
          "execution_count": 21
        }
      ]
    },
    {
      "cell_type": "code",
      "metadata": {
        "colab": {
          "base_uri": "https://localhost:8080/"
        },
        "id": "H9IukU6FmZYH",
        "outputId": "e22795f8-39f4-43b4-b6ab-e6e719528ff1"
      },
      "source": [
        "#Hadamard product (multiply elements on the same location)\r\n",
        "a=np.array([[11,12,13],[21,22,23],[31,32,33]])\r\n",
        "b=np.array([[11,12,13],[21,22,23],[31,32,33]])\r\n",
        "z=a*b\r\n",
        "z\r\n"
      ],
      "execution_count": null,
      "outputs": [
        {
          "output_type": "execute_result",
          "data": {
            "text/plain": [
              "array([[ 121,  144,  169],\n",
              "       [ 441,  484,  529],\n",
              "       [ 961, 1024, 1089]])"
            ]
          },
          "metadata": {
            "tags": []
          },
          "execution_count": 24
        }
      ]
    },
    {
      "cell_type": "code",
      "metadata": {
        "colab": {
          "base_uri": "https://localhost:8080/"
        },
        "id": "TwT9J1sEmj9n",
        "outputId": "595e8833-f6db-4562-cdca-ec2ce5446579"
      },
      "source": [
        "#matrix multiplication\r\n",
        "#number of columns of one matrix must be the same as the number\r\n",
        "#of rows of the other matrix\r\n",
        "a=np.array([[0,1,1],[1,0,1]])\r\n",
        "b=np.array([[1,1],[1,1],[-1,1]])\r\n",
        "c=np.dot(a,b)\r\n",
        "c"
      ],
      "execution_count": null,
      "outputs": [
        {
          "output_type": "execute_result",
          "data": {
            "text/plain": [
              "array([[0, 2],\n",
              "       [0, 2]])"
            ]
          },
          "metadata": {
            "tags": []
          },
          "execution_count": 29
        }
      ]
    },
    {
      "cell_type": "markdown",
      "metadata": {
        "id": "y24uI7EpoKgZ"
      },
      "source": [
        "# Exercícios"
      ]
    },
    {
      "cell_type": "code",
      "metadata": {
        "colab": {
          "base_uri": "https://localhost:8080/"
        },
        "id": "WNz2MeiBm_js",
        "outputId": "d8779944-c455-4af5-a478-579f08ba7e23"
      },
      "source": [
        "X=np.array([[1,0],[0,1]])\r\n",
        "Y=np.array([[0,1],[1,0]])\r\n",
        "Z=X+Y\r\n",
        "Z"
      ],
      "execution_count": null,
      "outputs": [
        {
          "output_type": "execute_result",
          "data": {
            "text/plain": [
              "array([[1, 1],\n",
              "       [1, 1]])"
            ]
          },
          "metadata": {
            "tags": []
          },
          "execution_count": 32
        }
      ]
    },
    {
      "cell_type": "code",
      "metadata": {
        "colab": {
          "base_uri": "https://localhost:8080/"
        },
        "id": "DOhS6NnQoQwL",
        "outputId": "26af7070-cc4b-4a52-fceb-b89e8ef267b9"
      },
      "source": [
        "X=np.array([[1,0,1],[2,2,2]]) \r\n",
        "out=X[0:2,2]\r\n",
        "out"
      ],
      "execution_count": null,
      "outputs": [
        {
          "output_type": "execute_result",
          "data": {
            "text/plain": [
              "array([1, 2])"
            ]
          },
          "metadata": {
            "tags": []
          },
          "execution_count": 33
        }
      ]
    },
    {
      "cell_type": "code",
      "metadata": {
        "colab": {
          "base_uri": "https://localhost:8080/"
        },
        "id": "24tckDG3oZk5",
        "outputId": "b43f02d0-1af4-4b45-b274-5d379aa15315"
      },
      "source": [
        "X=np.array([[1,0],[0,1]])\r\n",
        "Y=np.array([[2,2],[2,2]])\r\n",
        "Z=np.dot(X,Y)\r\n",
        "Z"
      ],
      "execution_count": null,
      "outputs": [
        {
          "output_type": "execute_result",
          "data": {
            "text/plain": [
              "array([[2, 2],\n",
              "       [2, 2]])"
            ]
          },
          "metadata": {
            "tags": []
          },
          "execution_count": 34
        }
      ]
    },
    {
      "cell_type": "code",
      "metadata": {
        "id": "mgTXspTgoj9U"
      },
      "source": [
        ""
      ],
      "execution_count": null,
      "outputs": []
    }
  ]
}