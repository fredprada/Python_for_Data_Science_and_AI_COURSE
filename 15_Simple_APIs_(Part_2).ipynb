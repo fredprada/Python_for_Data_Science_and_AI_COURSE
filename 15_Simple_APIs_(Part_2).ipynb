{
  "nbformat": 4,
  "nbformat_minor": 0,
  "metadata": {
    "colab": {
      "name": "15 - Simple APIs (Part 2).ipynb",
      "provenance": [],
      "collapsed_sections": [],
      "authorship_tag": "ABX9TyOQ9MMU7KcLSjFxmrgYvQ8j",
      "include_colab_link": true
    },
    "kernelspec": {
      "name": "python3",
      "display_name": "Python 3"
    }
  },
  "cells": [
    {
      "cell_type": "markdown",
      "metadata": {
        "id": "view-in-github",
        "colab_type": "text"
      },
      "source": [
        "<a href=\"https://colab.research.google.com/github/fredprada/Python_for_Data_Science_and_AI_COURSE/blob/main/15_Simple_APIs_(Part_2).ipynb\" target=\"_parent\"><img src=\"https://colab.research.google.com/assets/colab-badge.svg\" alt=\"Open In Colab\"/></a>"
      ]
    },
    {
      "cell_type": "markdown",
      "metadata": {
        "id": "zPMghe9NyCi9"
      },
      "source": [
        "# API Keys and endpoints"
      ]
    },
    {
      "cell_type": "markdown",
      "metadata": {
        "id": "DzbOTgOW9sw8"
      },
      "source": [
        "An API key is a way to access the API. It is a unique set of characters the API uses to identify and authorize you."
      ]
    },
    {
      "cell_type": "markdown",
      "metadata": {
        "id": "KCRWf2PW-NXX"
      },
      "source": [
        "An Endpoint is the location of the service."
      ]
    },
    {
      "cell_type": "code",
      "metadata": {
        "id": "l7H-Nyla-Slk"
      },
      "source": [
        "from ibm_watson import SpeechToTextV1\r\n",
        "url_s2t=\"http://stream.watsonplatform.net/speech-to-text/api\"\r\n",
        "iam_apikey_s2t=\"EOeiZzzzDzV2xxxxxxxxxxxxxxxxxjYen9SKASKW-\"\r\n",
        "s2t=SpeechToTextV1(iam_apikey=iam_apikey_s2t, url=url_s2t)\r\n",
        "filename=\"hello_this_is_python.wav\"\r\n",
        "with open(filename, mode=\"rb\") as wav\r\n",
        "  response=s2t.recognize(audio=wav, content_type='audio/wav')\r\n",
        "  #this sends the audio to speech to text service\r\n",
        "  {'results':[{'alternatives':[{'confidence':0.91,'transcript':/n\r\n",
        "                                'hello this is python'}],'final':true}],'result_index':0}\r\n"
      ],
      "execution_count": null,
      "outputs": []
    },
    {
      "cell_type": "code",
      "metadata": {
        "id": "-QaiBzhv_B-2"
      },
      "source": [
        ""
      ],
      "execution_count": null,
      "outputs": []
    }
  ]
}